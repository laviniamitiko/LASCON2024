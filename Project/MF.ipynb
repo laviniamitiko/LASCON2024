{
 "cells": [
  {
   "cell_type": "code",
   "execution_count": 3,
   "id": "cfa47bfa-33f2-48a5-b9b7-302121666969",
   "metadata": {},
   "outputs": [],
   "source": [
    "from scipy.integrate import quad as integrate\n",
    "from scipy.special import erf"
   ]
  },
  {
   "cell_type": "code",
   "execution_count": 6,
   "id": "67ea7637-5228-4abb-a570-498d17e1f65c",
   "metadata": {},
   "outputs": [],
   "source": [
    "def calculate_r(µ, σ):\n",
    "    return 1/(t_ref + τ*np.sqrt(np.pi)*integrate(np.exp(u**2)*(1+erf(u)), (V0-µ)/σ, (Vth-µ)/σ ))"
   ]
  },
  {
   "cell_type": "code",
   "execution_count": 7,
   "id": "2e1b7b45-1d08-47cb-ae36-d41fcfa63de9",
   "metadata": {},
   "outputs": [
    {
     "ename": "NameError",
     "evalue": "name 'τ' is not defined",
     "output_type": "error",
     "traceback": [
      "\u001b[0;31m---------------------------------------------------------------------------\u001b[0m",
      "\u001b[0;31mNameError\u001b[0m                                 Traceback (most recent call last)",
      "Cell \u001b[0;32mIn[7], line 1\u001b[0m\n\u001b[0;32m----> 1\u001b[0m µ \u001b[38;5;241m=\u001b[39m \u001b[43mτ\u001b[49m\u001b[38;5;241m*\u001b[39m(J_s\u001b[38;5;241m*\u001b[39ms\u001b[38;5;241m+\u001b[39m J\u001b[38;5;241m*\u001b[39mr\u001b[38;5;241m*\u001b[39mN\u001b[38;5;241m*\u001b[39meps\u001b[38;5;241m*\u001b[39m(f\u001b[38;5;241m-\u001b[39mg\u001b[38;5;241m*\u001b[39m(\u001b[38;5;241m1\u001b[39m\u001b[38;5;241m-\u001b[39mf)))\n\u001b[1;32m      2\u001b[0m σ \u001b[38;5;241m=\u001b[39m τ\u001b[38;5;241m*\u001b[39m((J_s\u001b[38;5;241m*\u001b[39m\u001b[38;5;241m*\u001b[39m\u001b[38;5;241m2\u001b[39m)\u001b[38;5;241m*\u001b[39ms\u001b[38;5;241m+\u001b[39m (J\u001b[38;5;241m*\u001b[39m\u001b[38;5;241m*\u001b[39m\u001b[38;5;241m2\u001b[39m)\u001b[38;5;241m*\u001b[39mr\u001b[38;5;241m*\u001b[39mN\u001b[38;5;241m*\u001b[39meps\u001b[38;5;241m*\u001b[39m(f\u001b[38;5;241m-\u001b[39mg\u001b[38;5;241m*\u001b[39m(\u001b[38;5;241m1\u001b[39m\u001b[38;5;241m-\u001b[39mf)))\n",
      "\u001b[0;31mNameError\u001b[0m: name 'τ' is not defined"
     ]
    }
   ],
   "source": [
    "µ = τ*(J_s*s+ J*r*N*eps*(f-g*(1-f)))\n",
    "σ = τ*((J_s**2)*s+ (J**2)*r*N*eps*(f-g*(1-f)))"
   ]
  },
  {
   "cell_type": "code",
   "execution_count": null,
   "id": "88c1acaf-37c1-438e-b02e-05a95e02b4ea",
   "metadata": {},
   "outputs": [],
   "source": []
  }
 ],
 "metadata": {
  "kernelspec": {
   "display_name": "Python 3 (ipykernel)",
   "language": "python",
   "name": "python3"
  },
  "language_info": {
   "codemirror_mode": {
    "name": "ipython",
    "version": 3
   },
   "file_extension": ".py",
   "mimetype": "text/x-python",
   "name": "python",
   "nbconvert_exporter": "python",
   "pygments_lexer": "ipython3",
   "version": "3.11.7"
  }
 },
 "nbformat": 4,
 "nbformat_minor": 5
}
